{
 "cells": [
  {
   "cell_type": "markdown",
   "metadata": {},
   "source": [
    "# Calendar Plot\n",
    "\n",
    "> Sometimes it is useful to visualise data in a familiar way. Calendars are the obvious way\n",
    "to represent data for data on the time scale of days or months. The calendarPlot\n",
    "function provides an effective way to visualise data in this way by showing daily\n",
    "concentrations laid out in a calendar format. The concentration of a species is shown\n",
    "by its colour. "
   ]
  },
  {
   "cell_type": "markdown",
   "metadata": {},
   "source": [
    "Standard libraries to be imported for usage"
   ]
  },
  {
   "cell_type": "code",
   "execution_count": 1,
   "metadata": {},
   "outputs": [],
   "source": [
    "import pandas as pd\n",
    "import numpy as np\n",
    "from vayu import calendarPlot"
   ]
  },
  {
   "cell_type": "markdown",
   "metadata": {},
   "source": [
    "#### Using `mydata.csv`\n",
    "Reading data."
   ]
  },
  {
   "cell_type": "code",
   "execution_count": 2,
   "metadata": {
    "scrolled": true
   },
   "outputs": [
    {
     "data": {
      "text/html": [
       "<div>\n",
       "<style scoped>\n",
       "    .dataframe tbody tr th:only-of-type {\n",
       "        vertical-align: middle;\n",
       "    }\n",
       "\n",
       "    .dataframe tbody tr th {\n",
       "        vertical-align: top;\n",
       "    }\n",
       "\n",
       "    .dataframe thead th {\n",
       "        text-align: right;\n",
       "    }\n",
       "</style>\n",
       "<table border=\"1\" class=\"dataframe\">\n",
       "  <thead>\n",
       "    <tr style=\"text-align: right;\">\n",
       "      <th></th>\n",
       "      <th>date</th>\n",
       "      <th>ws</th>\n",
       "      <th>wd</th>\n",
       "      <th>nox</th>\n",
       "      <th>no2</th>\n",
       "      <th>o3</th>\n",
       "      <th>pm10</th>\n",
       "      <th>so2</th>\n",
       "      <th>co</th>\n",
       "      <th>pm25</th>\n",
       "    </tr>\n",
       "  </thead>\n",
       "  <tbody>\n",
       "    <tr>\n",
       "      <td>0</td>\n",
       "      <td>01/01/1998 00:00</td>\n",
       "      <td>0.60</td>\n",
       "      <td>280.0</td>\n",
       "      <td>285.0</td>\n",
       "      <td>39.0</td>\n",
       "      <td>1.0</td>\n",
       "      <td>29.0</td>\n",
       "      <td>4.7225</td>\n",
       "      <td>3.3725</td>\n",
       "      <td>NaN</td>\n",
       "    </tr>\n",
       "    <tr>\n",
       "      <td>1</td>\n",
       "      <td>01/01/1998 01:00</td>\n",
       "      <td>2.16</td>\n",
       "      <td>230.0</td>\n",
       "      <td>NaN</td>\n",
       "      <td>NaN</td>\n",
       "      <td>NaN</td>\n",
       "      <td>37.0</td>\n",
       "      <td>NaN</td>\n",
       "      <td>NaN</td>\n",
       "      <td>NaN</td>\n",
       "    </tr>\n",
       "    <tr>\n",
       "      <td>2</td>\n",
       "      <td>01/01/1998 02:00</td>\n",
       "      <td>2.76</td>\n",
       "      <td>190.0</td>\n",
       "      <td>NaN</td>\n",
       "      <td>NaN</td>\n",
       "      <td>3.0</td>\n",
       "      <td>34.0</td>\n",
       "      <td>6.8300</td>\n",
       "      <td>9.6025</td>\n",
       "      <td>NaN</td>\n",
       "    </tr>\n",
       "    <tr>\n",
       "      <td>3</td>\n",
       "      <td>01/01/1998 03:00</td>\n",
       "      <td>2.16</td>\n",
       "      <td>170.0</td>\n",
       "      <td>493.0</td>\n",
       "      <td>52.0</td>\n",
       "      <td>3.0</td>\n",
       "      <td>35.0</td>\n",
       "      <td>7.6625</td>\n",
       "      <td>10.2175</td>\n",
       "      <td>NaN</td>\n",
       "    </tr>\n",
       "    <tr>\n",
       "      <td>4</td>\n",
       "      <td>01/01/1998 04:00</td>\n",
       "      <td>2.40</td>\n",
       "      <td>180.0</td>\n",
       "      <td>468.0</td>\n",
       "      <td>78.0</td>\n",
       "      <td>2.0</td>\n",
       "      <td>34.0</td>\n",
       "      <td>8.0700</td>\n",
       "      <td>8.9125</td>\n",
       "      <td>NaN</td>\n",
       "    </tr>\n",
       "  </tbody>\n",
       "</table>\n",
       "</div>"
      ],
      "text/plain": [
       "               date    ws     wd    nox   no2   o3  pm10     so2       co  \\\n",
       "0  01/01/1998 00:00  0.60  280.0  285.0  39.0  1.0  29.0  4.7225   3.3725   \n",
       "1  01/01/1998 01:00  2.16  230.0    NaN   NaN  NaN  37.0     NaN      NaN   \n",
       "2  01/01/1998 02:00  2.76  190.0    NaN   NaN  3.0  34.0  6.8300   9.6025   \n",
       "3  01/01/1998 03:00  2.16  170.0  493.0  52.0  3.0  35.0  7.6625  10.2175   \n",
       "4  01/01/1998 04:00  2.40  180.0  468.0  78.0  2.0  34.0  8.0700   8.9125   \n",
       "\n",
       "   pm25  \n",
       "0   NaN  \n",
       "1   NaN  \n",
       "2   NaN  \n",
       "3   NaN  \n",
       "4   NaN  "
      ]
     },
     "execution_count": 2,
     "metadata": {},
     "output_type": "execute_result"
    }
   ],
   "source": [
    "df = pd.read_csv('../data/mydata.csv')\n",
    "df.head()"
   ]
  },
  {
   "cell_type": "markdown",
   "metadata": {},
   "source": [
    "Converting `date` column to be of the type `datetime64`. And taking daily averages."
   ]
  },
  {
   "cell_type": "code",
   "execution_count": 3,
   "metadata": {},
   "outputs": [
    {
     "data": {
      "text/html": [
       "<div>\n",
       "<style scoped>\n",
       "    .dataframe tbody tr th:only-of-type {\n",
       "        vertical-align: middle;\n",
       "    }\n",
       "\n",
       "    .dataframe tbody tr th {\n",
       "        vertical-align: top;\n",
       "    }\n",
       "\n",
       "    .dataframe thead th {\n",
       "        text-align: right;\n",
       "    }\n",
       "</style>\n",
       "<table border=\"1\" class=\"dataframe\">\n",
       "  <thead>\n",
       "    <tr style=\"text-align: right;\">\n",
       "      <th></th>\n",
       "      <th>ws</th>\n",
       "      <th>wd</th>\n",
       "      <th>nox</th>\n",
       "      <th>no2</th>\n",
       "      <th>o3</th>\n",
       "      <th>pm10</th>\n",
       "      <th>so2</th>\n",
       "      <th>co</th>\n",
       "      <th>pm25</th>\n",
       "    </tr>\n",
       "    <tr>\n",
       "      <th>date</th>\n",
       "      <th></th>\n",
       "      <th></th>\n",
       "      <th></th>\n",
       "      <th></th>\n",
       "      <th></th>\n",
       "      <th></th>\n",
       "      <th></th>\n",
       "      <th></th>\n",
       "      <th></th>\n",
       "    </tr>\n",
       "  </thead>\n",
       "  <tbody>\n",
       "    <tr>\n",
       "      <td>1998-01-01</td>\n",
       "      <td>6.835</td>\n",
       "      <td>191.666667</td>\n",
       "      <td>153.954545</td>\n",
       "      <td>39.363636</td>\n",
       "      <td>6.869565</td>\n",
       "      <td>18.166667</td>\n",
       "      <td>3.152609</td>\n",
       "      <td>2.699239</td>\n",
       "      <td>NaN</td>\n",
       "    </tr>\n",
       "    <tr>\n",
       "      <td>1998-01-02</td>\n",
       "      <td>1.175</td>\n",
       "      <td>89.166667</td>\n",
       "      <td>149.375000</td>\n",
       "      <td>41.208333</td>\n",
       "      <td>2.250000</td>\n",
       "      <td>25.000000</td>\n",
       "      <td>4.862882</td>\n",
       "      <td>1.857882</td>\n",
       "      <td>NaN</td>\n",
       "    </tr>\n",
       "    <tr>\n",
       "      <td>1998-01-03</td>\n",
       "      <td>6.750</td>\n",
       "      <td>232.500000</td>\n",
       "      <td>250.500000</td>\n",
       "      <td>51.500000</td>\n",
       "      <td>3.375000</td>\n",
       "      <td>23.416667</td>\n",
       "      <td>9.811528</td>\n",
       "      <td>2.984965</td>\n",
       "      <td>NaN</td>\n",
       "    </tr>\n",
       "    <tr>\n",
       "      <td>1998-01-04</td>\n",
       "      <td>2.215</td>\n",
       "      <td>98.333333</td>\n",
       "      <td>239.541667</td>\n",
       "      <td>46.541667</td>\n",
       "      <td>1.875000</td>\n",
       "      <td>45.583333</td>\n",
       "      <td>21.792065</td>\n",
       "      <td>2.409271</td>\n",
       "      <td>NaN</td>\n",
       "    </tr>\n",
       "    <tr>\n",
       "      <td>1998-01-05</td>\n",
       "      <td>3.570</td>\n",
       "      <td>325.416667</td>\n",
       "      <td>79.625000</td>\n",
       "      <td>34.333333</td>\n",
       "      <td>17.625000</td>\n",
       "      <td>23.000000</td>\n",
       "      <td>2.103958</td>\n",
       "      <td>0.930347</td>\n",
       "      <td>16.235294</td>\n",
       "    </tr>\n",
       "  </tbody>\n",
       "</table>\n",
       "</div>"
      ],
      "text/plain": [
       "               ws          wd         nox        no2         o3       pm10  \\\n",
       "date                                                                         \n",
       "1998-01-01  6.835  191.666667  153.954545  39.363636   6.869565  18.166667   \n",
       "1998-01-02  1.175   89.166667  149.375000  41.208333   2.250000  25.000000   \n",
       "1998-01-03  6.750  232.500000  250.500000  51.500000   3.375000  23.416667   \n",
       "1998-01-04  2.215   98.333333  239.541667  46.541667   1.875000  45.583333   \n",
       "1998-01-05  3.570  325.416667   79.625000  34.333333  17.625000  23.000000   \n",
       "\n",
       "                  so2        co       pm25  \n",
       "date                                        \n",
       "1998-01-01   3.152609  2.699239        NaN  \n",
       "1998-01-02   4.862882  1.857882        NaN  \n",
       "1998-01-03   9.811528  2.984965        NaN  \n",
       "1998-01-04  21.792065  2.409271        NaN  \n",
       "1998-01-05   2.103958  0.930347  16.235294  "
      ]
     },
     "execution_count": 3,
     "metadata": {},
     "output_type": "execute_result"
    }
   ],
   "source": [
    "df['date']= pd.to_datetime(df['date'])\n",
    "df = df.groupby([df['date'].dt.date]).mean()\n",
    "df.head()"
   ]
  },
  {
   "cell_type": "markdown",
   "metadata": {},
   "source": [
    "Resetting index"
   ]
  },
  {
   "cell_type": "code",
   "execution_count": 4,
   "metadata": {},
   "outputs": [
    {
     "data": {
      "text/html": [
       "<div>\n",
       "<style scoped>\n",
       "    .dataframe tbody tr th:only-of-type {\n",
       "        vertical-align: middle;\n",
       "    }\n",
       "\n",
       "    .dataframe tbody tr th {\n",
       "        vertical-align: top;\n",
       "    }\n",
       "\n",
       "    .dataframe thead th {\n",
       "        text-align: right;\n",
       "    }\n",
       "</style>\n",
       "<table border=\"1\" class=\"dataframe\">\n",
       "  <thead>\n",
       "    <tr style=\"text-align: right;\">\n",
       "      <th></th>\n",
       "      <th>date</th>\n",
       "      <th>ws</th>\n",
       "      <th>wd</th>\n",
       "      <th>nox</th>\n",
       "      <th>no2</th>\n",
       "      <th>o3</th>\n",
       "      <th>pm10</th>\n",
       "      <th>so2</th>\n",
       "      <th>co</th>\n",
       "      <th>pm25</th>\n",
       "    </tr>\n",
       "  </thead>\n",
       "  <tbody>\n",
       "    <tr>\n",
       "      <td>0</td>\n",
       "      <td>1998-01-01</td>\n",
       "      <td>6.835</td>\n",
       "      <td>191.666667</td>\n",
       "      <td>153.954545</td>\n",
       "      <td>39.363636</td>\n",
       "      <td>6.869565</td>\n",
       "      <td>18.166667</td>\n",
       "      <td>3.152609</td>\n",
       "      <td>2.699239</td>\n",
       "      <td>NaN</td>\n",
       "    </tr>\n",
       "    <tr>\n",
       "      <td>1</td>\n",
       "      <td>1998-01-02</td>\n",
       "      <td>1.175</td>\n",
       "      <td>89.166667</td>\n",
       "      <td>149.375000</td>\n",
       "      <td>41.208333</td>\n",
       "      <td>2.250000</td>\n",
       "      <td>25.000000</td>\n",
       "      <td>4.862882</td>\n",
       "      <td>1.857882</td>\n",
       "      <td>NaN</td>\n",
       "    </tr>\n",
       "    <tr>\n",
       "      <td>2</td>\n",
       "      <td>1998-01-03</td>\n",
       "      <td>6.750</td>\n",
       "      <td>232.500000</td>\n",
       "      <td>250.500000</td>\n",
       "      <td>51.500000</td>\n",
       "      <td>3.375000</td>\n",
       "      <td>23.416667</td>\n",
       "      <td>9.811528</td>\n",
       "      <td>2.984965</td>\n",
       "      <td>NaN</td>\n",
       "    </tr>\n",
       "    <tr>\n",
       "      <td>3</td>\n",
       "      <td>1998-01-04</td>\n",
       "      <td>2.215</td>\n",
       "      <td>98.333333</td>\n",
       "      <td>239.541667</td>\n",
       "      <td>46.541667</td>\n",
       "      <td>1.875000</td>\n",
       "      <td>45.583333</td>\n",
       "      <td>21.792065</td>\n",
       "      <td>2.409271</td>\n",
       "      <td>NaN</td>\n",
       "    </tr>\n",
       "    <tr>\n",
       "      <td>4</td>\n",
       "      <td>1998-01-05</td>\n",
       "      <td>3.570</td>\n",
       "      <td>325.416667</td>\n",
       "      <td>79.625000</td>\n",
       "      <td>34.333333</td>\n",
       "      <td>17.625000</td>\n",
       "      <td>23.000000</td>\n",
       "      <td>2.103958</td>\n",
       "      <td>0.930347</td>\n",
       "      <td>16.235294</td>\n",
       "    </tr>\n",
       "  </tbody>\n",
       "</table>\n",
       "</div>"
      ],
      "text/plain": [
       "         date     ws          wd         nox        no2         o3       pm10  \\\n",
       "0  1998-01-01  6.835  191.666667  153.954545  39.363636   6.869565  18.166667   \n",
       "1  1998-01-02  1.175   89.166667  149.375000  41.208333   2.250000  25.000000   \n",
       "2  1998-01-03  6.750  232.500000  250.500000  51.500000   3.375000  23.416667   \n",
       "3  1998-01-04  2.215   98.333333  239.541667  46.541667   1.875000  45.583333   \n",
       "4  1998-01-05  3.570  325.416667   79.625000  34.333333  17.625000  23.000000   \n",
       "\n",
       "         so2        co       pm25  \n",
       "0   3.152609  2.699239        NaN  \n",
       "1   4.862882  1.857882        NaN  \n",
       "2   9.811528  2.984965        NaN  \n",
       "3  21.792065  2.409271        NaN  \n",
       "4   2.103958  0.930347  16.235294  "
      ]
     },
     "execution_count": 4,
     "metadata": {},
     "output_type": "execute_result"
    }
   ],
   "source": [
    "df = df.reset_index()\n",
    "df.head()"
   ]
  },
  {
   "cell_type": "markdown",
   "metadata": {},
   "source": [
    "### Getting a date column  "
   ]
  },
  {
   "cell_type": "markdown",
   "metadata": {},
   "source": [
    "**Note**: Please note the datatypes of the different columns."
   ]
  },
  {
   "cell_type": "code",
   "execution_count": 5,
   "metadata": {
    "scrolled": false
   },
   "outputs": [
    {
     "data": {
      "image/png": "[encoded data removed]",
      "text/plain": [
       "<Figure size 720x720 with 13 Axes>"
      ]
     },
     "metadata": {
      "needs_background": "light"
     },
     "output_type": "display_data"
    }
   ],
   "source": [
    "calendarPlot(df, 'pm25', '2003', 'India')"
   ]
  },
  {
   "cell_type": "code",
   "execution_count": null,
   "metadata": {},
   "outputs": [],
   "source": []
  }
 ],
 "metadata": {
  "kernelspec": {
   "display_name": "Python 3",
   "language": "python",
   "name": "python3"
  },
  "language_info": {
   "codemirror_mode": {
    "name": "ipython",
    "version": 3
   },
   "file_extension": ".py",
   "mimetype": "text/x-python",
   "name": "python",
   "nbconvert_exporter": "python",
   "pygments_lexer": "ipython3",
   "version": "3.6.9"
  }
 },
 "nbformat": 4,
 "nbformat_minor": 2
}
